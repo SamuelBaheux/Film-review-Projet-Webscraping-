{
 "cells": [
  {
   "cell_type": "code",
   "execution_count": null,
   "id": "initial_id",
   "metadata": {
    "collapsed": true
   },
   "outputs": [],
   "source": []
  },
  {
   "cell_type": "code",
   "execution_count": null,
   "outputs": [],
   "source": [
    "import requests\n",
    "from bs4 import BeautifulSoup\n",
    "from urllib.parse import urljoin\n",
    "\n",
    "# URL de la page\n",
    "url = \"URL_DE_LA_PAGE\"  # Remplacez par l'URL réelle\n",
    "\n",
    "# Obtenir le contenu de la page\n",
    "response = requests.get(url)\n",
    "html_content = response.content\n",
    "\n",
    "# Analyser le HTML avec BeautifulSoup\n",
    "soup = BeautifulSoup(html_content, \"html.parser\")\n",
    "\n",
    "# Trouver la balise 'a' avec la classe spécifiée\n",
    "a_tag = soup.find(\"a\", class_=\"ipc-lockup-overlay ipc-focusable\")\n",
    "\n",
    "# Obtenir l'attribut 'href' de la balise 'a'\n",
    "image_url = a_tag[\"href\"]\n",
    "\n",
    "# Joindre l'URL absolu en utilisant urljoin\n",
    "absolute_image_url = urljoin(url, image_url)\n",
    "\n",
    "# Télécharger l'image\n",
    "response = requests.get(absolute_image_url)\n",
    "\n",
    "# Sauvegarder l'image localement (ou effectuer toute autre opération avec l'image)\n",
    "with open(\"image.jpg\", \"wb\") as f:\n",
    "    f.write(response.content)\n",
    "\n",
    "print(\"L'image a été téléchargée avec succès.\")\n"
   ],
   "metadata": {
    "collapsed": false
   },
   "id": "ec3a9e8e4cb313b7"
  }
 ],
 "metadata": {
  "kernelspec": {
   "display_name": "Python 3",
   "language": "python",
   "name": "python3"
  },
  "language_info": {
   "codemirror_mode": {
    "name": "ipython",
    "version": 2
   },
   "file_extension": ".py",
   "mimetype": "text/x-python",
   "name": "python",
   "nbconvert_exporter": "python",
   "pygments_lexer": "ipython2",
   "version": "2.7.6"
  }
 },
 "nbformat": 4,
 "nbformat_minor": 5
}
