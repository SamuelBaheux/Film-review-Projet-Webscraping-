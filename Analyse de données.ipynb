{
 "cells": [
  {
   "cell_type": "code",
   "execution_count": 21,
   "outputs": [],
   "source": [
    "import pandas as pd\n",
    "import spacy"
   ],
   "metadata": {
    "collapsed": false,
    "ExecuteTime": {
     "end_time": "2023-12-13T18:30:22.642384200Z",
     "start_time": "2023-12-13T18:30:22.624441300Z"
    }
   },
   "id": "b70df2df694907e1"
  },
  {
   "cell_type": "code",
   "execution_count": 1,
   "outputs": [
    {
     "data": {
      "text/plain": "                                             comment\n0            A great sc fi film with amazing visuals\n1  The only saving grace to both Avatar is how sp...\n2  Saw this twice at the movies. James Cameron is...\n3  Ofcourse I still love the original more, but t...\n4  a not so unpredictable action sci fi flick, ba...",
      "text/html": "<div>\n<style scoped>\n    .dataframe tbody tr th:only-of-type {\n        vertical-align: middle;\n    }\n\n    .dataframe tbody tr th {\n        vertical-align: top;\n    }\n\n    .dataframe thead th {\n        text-align: right;\n    }\n</style>\n<table border=\"1\" class=\"dataframe\">\n  <thead>\n    <tr style=\"text-align: right;\">\n      <th></th>\n      <th>comment</th>\n    </tr>\n  </thead>\n  <tbody>\n    <tr>\n      <th>0</th>\n      <td>A great sc fi film with amazing visuals</td>\n    </tr>\n    <tr>\n      <th>1</th>\n      <td>The only saving grace to both Avatar is how sp...</td>\n    </tr>\n    <tr>\n      <th>2</th>\n      <td>Saw this twice at the movies. James Cameron is...</td>\n    </tr>\n    <tr>\n      <th>3</th>\n      <td>Ofcourse I still love the original more, but t...</td>\n    </tr>\n    <tr>\n      <th>4</th>\n      <td>a not so unpredictable action sci fi flick, ba...</td>\n    </tr>\n  </tbody>\n</table>\n</div>"
     },
     "execution_count": 1,
     "metadata": {},
     "output_type": "execute_result"
    }
   ],
   "source": [
    "# Charger le fichier JSON dans un dataframe\n",
    "json_file_path = './commentaires_avatar.json'\n",
    "df = pd.read_json(json_file_path, orient='records')\n",
    "\n",
    "# Afficher le dataframe\n",
    "\n",
    "df.head()"
   ],
   "metadata": {
    "collapsed": false,
    "ExecuteTime": {
     "start_time": "2023-12-13T18:19:35.719128400Z"
    }
   },
   "id": "initial_id"
  },
  {
   "cell_type": "code",
   "execution_count": 3,
   "outputs": [
    {
     "name": "stdout",
     "output_type": "stream",
     "text": [
      "WARNING:tensorflow:From C:\\Users\\baheu\\Documents\\M2 MoSEF\\Python_avance\\Projet\\venv\\lib\\site-packages\\keras\\src\\losses.py:2976: The name tf.losses.sparse_softmax_cross_entropy is deprecated. Please use tf.compat.v1.losses.sparse_softmax_cross_entropy instead.\n"
     ]
    }
   ],
   "source": [
    "import json\n",
    "\n",
    "import re\n",
    "import nltk\n",
    "from nltk.corpus import stopwords\n",
    "from sklearn.model_selection import train_test_split\n",
    "from sklearn.feature_extraction.text import TfidfVectorizer\n",
    "from sklearn.svm import SVC\n",
    "from sklearn.metrics import accuracy_score, classification_report\n",
    "from tensorflow.keras.preprocessing.text import Tokenizer\n",
    "from tensorflow.keras.preprocessing.sequence import pad_sequences\n",
    "from tensorflow.keras.models import Sequential\n",
    "from tensorflow.keras.layers import Embedding, LSTM, Dense\n",
    "\n",
    "# Étape 1 : Chargement des données\n",
    "with open('./commentaires_avatar.json', 'r') as file:\n",
    "    data = json.load(file)\n"
   ],
   "metadata": {
    "collapsed": false,
    "ExecuteTime": {
     "end_time": "2023-12-13T18:20:20.511094500Z",
     "start_time": "2023-12-13T18:19:58.658155100Z"
    }
   },
   "id": "32ab87b9c91db6ed"
  },
  {
   "cell_type": "code",
   "execution_count": 7,
   "outputs": [],
   "source": [
    "comments = [item['comment'] for item in data]\n",
    "\n",
    "# Étape 2 : Exploration des données (en option)\n"
   ],
   "metadata": {
    "collapsed": false,
    "ExecuteTime": {
     "end_time": "2023-12-13T18:21:25.727047100Z",
     "start_time": "2023-12-13T18:21:25.715307500Z"
    }
   },
   "id": "99048155fd2e69bd"
  },
  {
   "cell_type": "code",
   "execution_count": 8,
   "outputs": [],
   "source": [
    "\n",
    "# Étape 3 : Nettoyage et tokenization\n",
    "def clean_text(text):\n",
    "    text = re.sub(r'[^a-zA-Z]', ' ', text)\n",
    "    text = text.lower()\n",
    "    return text\n",
    "\n",
    "cleaned_comments = [clean_text(comment) for comment in comments]\n"
   ],
   "metadata": {
    "collapsed": false,
    "ExecuteTime": {
     "end_time": "2023-12-13T18:21:26.515913200Z",
     "start_time": "2023-12-13T18:21:26.444349100Z"
    }
   },
   "id": "dbd076ca044f3ae6"
  },
  {
   "cell_type": "code",
   "execution_count": 9,
   "outputs": [
    {
     "name": "stderr",
     "output_type": "stream",
     "text": [
      "[nltk_data] Downloading package stopwords to\n",
      "[nltk_data]     C:\\Users\\baheu\\AppData\\Roaming\\nltk_data...\n",
      "[nltk_data]   Package stopwords is already up-to-date!\n"
     ]
    }
   ],
   "source": [
    "\n",
    "# Étape 4 : Suppression des stopwords\n",
    "nltk.download('stopwords')\n",
    "stop_words = set(stopwords.words('english'))\n",
    "filtered_comments = [' '.join([word for word in comment.split() if word not in stop_words]) for comment in cleaned_comments]\n"
   ],
   "metadata": {
    "collapsed": false,
    "ExecuteTime": {
     "end_time": "2023-12-13T18:21:27.734016100Z",
     "start_time": "2023-12-13T18:21:27.389382800Z"
    }
   },
   "id": "9616d645bb4458cc"
  },
  {
   "cell_type": "code",
   "execution_count": 10,
   "outputs": [],
   "source": [
    "\n",
    "# Étape 5 : Vectorisation avec TF-IDF\n",
    "vectorizer = TfidfVectorizer(max_features=5000)\n",
    "X = vectorizer.fit_transform(filtered_comments).toarray()\n"
   ],
   "metadata": {
    "collapsed": false,
    "ExecuteTime": {
     "end_time": "2023-12-13T18:21:29.258922700Z",
     "start_time": "2023-12-13T18:21:29.149051200Z"
    }
   },
   "id": "8b7ce0486a3eb874"
  },
  {
   "cell_type": "code",
   "execution_count": 11,
   "outputs": [
    {
     "name": "stdout",
     "output_type": "stream",
     "text": [
      "CPU times: total: 812 ms\n",
      "Wall time: 1.23 s\n"
     ]
    }
   ],
   "source": [
    "# création de la colonne sentiment\n",
    "from vaderSentiment.vaderSentiment import SentimentIntensityAnalyzer\n",
    "import numpy as np\n",
    "\n",
    "model = SentimentIntensityAnalyzer()\n",
    "\n",
    "def get_sentiment(text):\n",
    "    scores = model.polarity_scores(text)\n",
    "    return scores.get('compound')\n",
    "%time df['sentiment'] = np.vectorize(get_sentiment)(df.comment)"
   ],
   "metadata": {
    "collapsed": false,
    "ExecuteTime": {
     "end_time": "2023-12-13T18:21:31.213078100Z",
     "start_time": "2023-12-13T18:21:29.911121400Z"
    }
   },
   "id": "ed26c972fcebb4e4"
  },
  {
   "cell_type": "code",
   "execution_count": 29,
   "outputs": [],
   "source": [
    "from spacy import displacy\n",
    "\n",
    "nlp = spacy.load(\"en_core_web_sm\")\n",
    "\n",
    "def get_entities(text):\n",
    "    doc = nlp(text)\n",
    "    list_ = []\n",
    "    for ent in doc.ents:\n",
    "        if ent.label_.lower() not in ('time', 'money', 'date'):\n",
    "            temp_ = re.sub('[^a-z0-9]+','_', ent.text.lower())\n",
    "            list_.append('__'.join([temp_, ent.label_.upper()]))\n",
    "    return ' '.join(list_)"
   ],
   "metadata": {
    "collapsed": false,
    "ExecuteTime": {
     "end_time": "2023-12-13T18:36:17.525620400Z",
     "start_time": "2023-12-13T18:36:16.875193500Z"
    }
   },
   "id": "902349cd71f2b4da"
  },
  {
   "cell_type": "code",
   "execution_count": null,
   "outputs": [],
   "source": [
    "%time df['entities'] = np.vectorize(get_entities)(df.comment)"
   ],
   "metadata": {
    "collapsed": false
   },
   "id": "1f56d5846a22e80b"
  },
  {
   "cell_type": "code",
   "execution_count": null,
   "outputs": [],
   "source": [
    "df"
   ],
   "metadata": {
    "collapsed": false
   },
   "id": "25eaff4bc5bc8a6f"
  },
  {
   "cell_type": "code",
   "execution_count": 37,
   "outputs": [
    {
     "data": {
      "text/plain": "entities\n                                                                                                                                                                                                                                          1815\nfirst__ORDINAL                                                                                                                                                                                                                             261\n3__CARDINAL                                                                                                                                                                                                                                 39\none__CARDINAL                                                                                                                                                                                                                               38\ncgi__ORG                                                                                                                                                                                                                                    38\n                                                                                                                                                                                                                                          ... \nfirst__ORDINAL 7_5__CARDINAL 7__CARDINAL 8__CARDINAL                                                                                                                                                                                         1\nmuito_bom__ORG a_o_dentro_dele__PERSON da_hist_ria__PERSON fica__GPE simplesmente__PERSON nova__LOC como__ORG primeiro__GPE achei__PERSON como__ORG                                                                                          1\n48__CARDINAL                                                                                                                                                                                                                                 1\nfirst__ORDINAL 6__CARDINAL 6__CARDINAL ooooooooffff__PERSON                                                                                                                                                                                  1\njames_cameron__PERSON avatar__PERSON cameron__PERSON first__ORDINAL first__ORDINAL na_vi__GPE cameron__PERSON pandora__GPE cgi__ORG margery_simkin__PERSON zoe_saldana__PERSON neytiri__ORG first__ORDINAL titanic__ORG third__ORDINAL       1\nName: count, Length: 1010, dtype: int64"
     },
     "execution_count": 37,
     "metadata": {},
     "output_type": "execute_result"
    }
   ],
   "source": [
    "df.entities.value_counts()"
   ],
   "metadata": {
    "collapsed": false,
    "ExecuteTime": {
     "end_time": "2023-12-13T19:12:14.931789500Z",
     "start_time": "2023-12-13T19:12:14.886850200Z"
    }
   },
   "id": "bebf440b38e47ff0"
  },
  {
   "cell_type": "code",
   "execution_count": null,
   "outputs": [],
   "source": [],
   "metadata": {
    "collapsed": false
   },
   "id": "66c98a7f5a5539b"
  },
  {
   "cell_type": "code",
   "execution_count": null,
   "outputs": [],
   "source": [],
   "metadata": {
    "collapsed": false
   },
   "id": "3ac266c54de4b3a1"
  }
 ],
 "metadata": {
  "kernelspec": {
   "display_name": "Python 3",
   "language": "python",
   "name": "python3"
  },
  "language_info": {
   "codemirror_mode": {
    "name": "ipython",
    "version": 2
   },
   "file_extension": ".py",
   "mimetype": "text/x-python",
   "name": "python",
   "nbconvert_exporter": "python",
   "pygments_lexer": "ipython2",
   "version": "2.7.6"
  }
 },
 "nbformat": 4,
 "nbformat_minor": 5
}
