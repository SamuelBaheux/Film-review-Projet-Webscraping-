{
 "cells": [
  {
   "cell_type": "code",
   "execution_count": 1,
   "id": "initial_id",
   "metadata": {
    "collapsed": true,
    "ExecuteTime": {
     "end_time": "2023-12-24T08:33:33.639869Z",
     "start_time": "2023-12-24T08:33:32.676222Z"
    }
   },
   "outputs": [],
   "source": [
    "import pandas as pd"
   ]
  },
  {
   "cell_type": "code",
   "execution_count": 6,
   "outputs": [],
   "source": [
    "pos = pd.read_csv(\"./notes_percentage_positive.csv\")\n",
    "neg = pd.read_csv(\"./notes_percentage_negative.csv\")"
   ],
   "metadata": {
    "collapsed": false,
    "ExecuteTime": {
     "end_time": "2023-12-24T08:34:54.110704Z",
     "start_time": "2023-12-24T08:34:54.104385Z"
    }
   },
   "id": "a7abd2226205f830"
  },
  {
   "cell_type": "code",
   "execution_count": 7,
   "outputs": [],
   "source": [
    "pos[\"Film\"] = pos[\"Film\"].apply(lambda x : x.replace(\"_\", \" \"))\n",
    "neg[\"Film\"] = neg[\"Film\"].apply(lambda x : x.replace(\"_\", \" \"))"
   ],
   "metadata": {
    "collapsed": false,
    "ExecuteTime": {
     "end_time": "2023-12-24T08:34:54.232510Z",
     "start_time": "2023-12-24T08:34:54.228078Z"
    }
   },
   "id": "7efb3d315701cae4"
  },
  {
   "cell_type": "code",
   "execution_count": 8,
   "outputs": [
    {
     "data": {
      "text/plain": "                          Film  pourcentages_positive      notes\n0                 Lady Ballers                  96.62  18.851351\n1                  The Holiday                  95.95  18.885135\n2                        Wonka                  93.92  18.472973\n3   The Super Mario Bros Movie                  93.92  18.391892\n4                       Barbie                  93.24  18.175676\n5                    The Shift                  92.57  18.121622\n6                The Holdovers                  92.57  18.155405\n7            Love and Monsters                  92.57  18.054054\n8            A Christmas Story                  91.22  17.716216\n9                     Spirited                  89.86  17.797297\n10                  Past Lives                  88.51  17.520270\n11                        Wish                  87.84  17.324324\n12                    Saltburn                  84.46  16.479730\n13                 Oppenheimer                  84.46  16.202703\n14                Interstellar                  84.46  16.756757\n15               Asteroid City                  83.78  16.148649\n16             Candy Cane Lane                  81.76  16.000000\n17                    Scrooged                  79.73  15.648649\n18                     Maestro                  78.38  15.533784\n19          Godzilla Minus One                  76.35  15.189189\n20                    Die Hard                  72.97  14.060811\n21                May December                  72.30  13.871622\n22                 The Archies                  66.89  13.716216\n23        A Haunting in Venice                  62.16  12.479730\n24                  The Batman                  61.49  12.054054\n25                 Blue Beetle                  60.14  12.067568\n26                    Napoleon                  58.11  11.378378\n27                      Animal                  52.03  10.560811\n28      Leave the World Behind                  51.35  10.398649\n29                  Talk to Me                  50.68   9.925676\n30                Thanksgiving                  45.95   9.337838\n31                  The Killer                  45.95   8.756757\n32                           X                  43.92   9.418919",
      "text/html": "<div>\n<style scoped>\n    .dataframe tbody tr th:only-of-type {\n        vertical-align: middle;\n    }\n\n    .dataframe tbody tr th {\n        vertical-align: top;\n    }\n\n    .dataframe thead th {\n        text-align: right;\n    }\n</style>\n<table border=\"1\" class=\"dataframe\">\n  <thead>\n    <tr style=\"text-align: right;\">\n      <th></th>\n      <th>Film</th>\n      <th>pourcentages_positive</th>\n      <th>notes</th>\n    </tr>\n  </thead>\n  <tbody>\n    <tr>\n      <th>0</th>\n      <td>Lady Ballers</td>\n      <td>96.62</td>\n      <td>18.851351</td>\n    </tr>\n    <tr>\n      <th>1</th>\n      <td>The Holiday</td>\n      <td>95.95</td>\n      <td>18.885135</td>\n    </tr>\n    <tr>\n      <th>2</th>\n      <td>Wonka</td>\n      <td>93.92</td>\n      <td>18.472973</td>\n    </tr>\n    <tr>\n      <th>3</th>\n      <td>The Super Mario Bros Movie</td>\n      <td>93.92</td>\n      <td>18.391892</td>\n    </tr>\n    <tr>\n      <th>4</th>\n      <td>Barbie</td>\n      <td>93.24</td>\n      <td>18.175676</td>\n    </tr>\n    <tr>\n      <th>5</th>\n      <td>The Shift</td>\n      <td>92.57</td>\n      <td>18.121622</td>\n    </tr>\n    <tr>\n      <th>6</th>\n      <td>The Holdovers</td>\n      <td>92.57</td>\n      <td>18.155405</td>\n    </tr>\n    <tr>\n      <th>7</th>\n      <td>Love and Monsters</td>\n      <td>92.57</td>\n      <td>18.054054</td>\n    </tr>\n    <tr>\n      <th>8</th>\n      <td>A Christmas Story</td>\n      <td>91.22</td>\n      <td>17.716216</td>\n    </tr>\n    <tr>\n      <th>9</th>\n      <td>Spirited</td>\n      <td>89.86</td>\n      <td>17.797297</td>\n    </tr>\n    <tr>\n      <th>10</th>\n      <td>Past Lives</td>\n      <td>88.51</td>\n      <td>17.520270</td>\n    </tr>\n    <tr>\n      <th>11</th>\n      <td>Wish</td>\n      <td>87.84</td>\n      <td>17.324324</td>\n    </tr>\n    <tr>\n      <th>12</th>\n      <td>Saltburn</td>\n      <td>84.46</td>\n      <td>16.479730</td>\n    </tr>\n    <tr>\n      <th>13</th>\n      <td>Oppenheimer</td>\n      <td>84.46</td>\n      <td>16.202703</td>\n    </tr>\n    <tr>\n      <th>14</th>\n      <td>Interstellar</td>\n      <td>84.46</td>\n      <td>16.756757</td>\n    </tr>\n    <tr>\n      <th>15</th>\n      <td>Asteroid City</td>\n      <td>83.78</td>\n      <td>16.148649</td>\n    </tr>\n    <tr>\n      <th>16</th>\n      <td>Candy Cane Lane</td>\n      <td>81.76</td>\n      <td>16.000000</td>\n    </tr>\n    <tr>\n      <th>17</th>\n      <td>Scrooged</td>\n      <td>79.73</td>\n      <td>15.648649</td>\n    </tr>\n    <tr>\n      <th>18</th>\n      <td>Maestro</td>\n      <td>78.38</td>\n      <td>15.533784</td>\n    </tr>\n    <tr>\n      <th>19</th>\n      <td>Godzilla Minus One</td>\n      <td>76.35</td>\n      <td>15.189189</td>\n    </tr>\n    <tr>\n      <th>20</th>\n      <td>Die Hard</td>\n      <td>72.97</td>\n      <td>14.060811</td>\n    </tr>\n    <tr>\n      <th>21</th>\n      <td>May December</td>\n      <td>72.30</td>\n      <td>13.871622</td>\n    </tr>\n    <tr>\n      <th>22</th>\n      <td>The Archies</td>\n      <td>66.89</td>\n      <td>13.716216</td>\n    </tr>\n    <tr>\n      <th>23</th>\n      <td>A Haunting in Venice</td>\n      <td>62.16</td>\n      <td>12.479730</td>\n    </tr>\n    <tr>\n      <th>24</th>\n      <td>The Batman</td>\n      <td>61.49</td>\n      <td>12.054054</td>\n    </tr>\n    <tr>\n      <th>25</th>\n      <td>Blue Beetle</td>\n      <td>60.14</td>\n      <td>12.067568</td>\n    </tr>\n    <tr>\n      <th>26</th>\n      <td>Napoleon</td>\n      <td>58.11</td>\n      <td>11.378378</td>\n    </tr>\n    <tr>\n      <th>27</th>\n      <td>Animal</td>\n      <td>52.03</td>\n      <td>10.560811</td>\n    </tr>\n    <tr>\n      <th>28</th>\n      <td>Leave the World Behind</td>\n      <td>51.35</td>\n      <td>10.398649</td>\n    </tr>\n    <tr>\n      <th>29</th>\n      <td>Talk to Me</td>\n      <td>50.68</td>\n      <td>9.925676</td>\n    </tr>\n    <tr>\n      <th>30</th>\n      <td>Thanksgiving</td>\n      <td>45.95</td>\n      <td>9.337838</td>\n    </tr>\n    <tr>\n      <th>31</th>\n      <td>The Killer</td>\n      <td>45.95</td>\n      <td>8.756757</td>\n    </tr>\n    <tr>\n      <th>32</th>\n      <td>X</td>\n      <td>43.92</td>\n      <td>9.418919</td>\n    </tr>\n  </tbody>\n</table>\n</div>"
     },
     "execution_count": 8,
     "metadata": {},
     "output_type": "execute_result"
    }
   ],
   "source": [
    "pos"
   ],
   "metadata": {
    "collapsed": false,
    "ExecuteTime": {
     "end_time": "2023-12-24T08:34:57.888282Z",
     "start_time": "2023-12-24T08:34:57.880446Z"
    }
   },
   "id": "b084c9aa572f4a95"
  },
  {
   "cell_type": "code",
   "execution_count": 9,
   "outputs": [
    {
     "data": {
      "text/plain": "                          Film  pourcentages_negative      notes\n0                            X                  54.73   9.418919\n1                   The Killer                  54.05   8.756757\n2                 Thanksgiving                  53.38   9.337838\n3       Leave the World Behind                  47.97  10.398649\n4                   Talk to Me                  47.97   9.925676\n5                       Animal                  47.97  10.560811\n6                     Napoleon                  40.54  11.378378\n7                  Blue Beetle                  39.19  12.067568\n8                   The Batman                  37.84  12.054054\n9         A Haunting in Venice                  37.16  12.479730\n10                 The Archies                  31.08  13.716216\n11                May December                  27.70  13.871622\n12                    Die Hard                  27.03  14.060811\n13          Godzilla Minus One                  22.97  15.189189\n14                     Maestro                  21.62  15.533784\n15                    Scrooged                  18.92  15.648649\n16             Candy Cane Lane                  18.24  16.000000\n17               Asteroid City                  16.22  16.148649\n18                 Oppenheimer                  15.54  16.202703\n19                    Saltburn                  14.19  16.479730\n20                Interstellar                  13.51  16.756757\n21                        Wish                  12.16  17.324324\n22                  Past Lives                  10.14  17.520270\n23                    Spirited                   8.78  17.797297\n24           A Christmas Story                   8.11  17.716216\n25               The Holdovers                   7.43  18.155405\n26                      Barbie                   6.76  18.175676\n27                   The Shift                   6.76  18.121622\n28           Love and Monsters                   6.08  18.054054\n29  The Super Mario Bros Movie                   6.08  18.391892\n30                       Wonka                   5.41  18.472973\n31                 The Holiday                   4.05  18.885135\n32                Lady Ballers                   3.38  18.851351",
      "text/html": "<div>\n<style scoped>\n    .dataframe tbody tr th:only-of-type {\n        vertical-align: middle;\n    }\n\n    .dataframe tbody tr th {\n        vertical-align: top;\n    }\n\n    .dataframe thead th {\n        text-align: right;\n    }\n</style>\n<table border=\"1\" class=\"dataframe\">\n  <thead>\n    <tr style=\"text-align: right;\">\n      <th></th>\n      <th>Film</th>\n      <th>pourcentages_negative</th>\n      <th>notes</th>\n    </tr>\n  </thead>\n  <tbody>\n    <tr>\n      <th>0</th>\n      <td>X</td>\n      <td>54.73</td>\n      <td>9.418919</td>\n    </tr>\n    <tr>\n      <th>1</th>\n      <td>The Killer</td>\n      <td>54.05</td>\n      <td>8.756757</td>\n    </tr>\n    <tr>\n      <th>2</th>\n      <td>Thanksgiving</td>\n      <td>53.38</td>\n      <td>9.337838</td>\n    </tr>\n    <tr>\n      <th>3</th>\n      <td>Leave the World Behind</td>\n      <td>47.97</td>\n      <td>10.398649</td>\n    </tr>\n    <tr>\n      <th>4</th>\n      <td>Talk to Me</td>\n      <td>47.97</td>\n      <td>9.925676</td>\n    </tr>\n    <tr>\n      <th>5</th>\n      <td>Animal</td>\n      <td>47.97</td>\n      <td>10.560811</td>\n    </tr>\n    <tr>\n      <th>6</th>\n      <td>Napoleon</td>\n      <td>40.54</td>\n      <td>11.378378</td>\n    </tr>\n    <tr>\n      <th>7</th>\n      <td>Blue Beetle</td>\n      <td>39.19</td>\n      <td>12.067568</td>\n    </tr>\n    <tr>\n      <th>8</th>\n      <td>The Batman</td>\n      <td>37.84</td>\n      <td>12.054054</td>\n    </tr>\n    <tr>\n      <th>9</th>\n      <td>A Haunting in Venice</td>\n      <td>37.16</td>\n      <td>12.479730</td>\n    </tr>\n    <tr>\n      <th>10</th>\n      <td>The Archies</td>\n      <td>31.08</td>\n      <td>13.716216</td>\n    </tr>\n    <tr>\n      <th>11</th>\n      <td>May December</td>\n      <td>27.70</td>\n      <td>13.871622</td>\n    </tr>\n    <tr>\n      <th>12</th>\n      <td>Die Hard</td>\n      <td>27.03</td>\n      <td>14.060811</td>\n    </tr>\n    <tr>\n      <th>13</th>\n      <td>Godzilla Minus One</td>\n      <td>22.97</td>\n      <td>15.189189</td>\n    </tr>\n    <tr>\n      <th>14</th>\n      <td>Maestro</td>\n      <td>21.62</td>\n      <td>15.533784</td>\n    </tr>\n    <tr>\n      <th>15</th>\n      <td>Scrooged</td>\n      <td>18.92</td>\n      <td>15.648649</td>\n    </tr>\n    <tr>\n      <th>16</th>\n      <td>Candy Cane Lane</td>\n      <td>18.24</td>\n      <td>16.000000</td>\n    </tr>\n    <tr>\n      <th>17</th>\n      <td>Asteroid City</td>\n      <td>16.22</td>\n      <td>16.148649</td>\n    </tr>\n    <tr>\n      <th>18</th>\n      <td>Oppenheimer</td>\n      <td>15.54</td>\n      <td>16.202703</td>\n    </tr>\n    <tr>\n      <th>19</th>\n      <td>Saltburn</td>\n      <td>14.19</td>\n      <td>16.479730</td>\n    </tr>\n    <tr>\n      <th>20</th>\n      <td>Interstellar</td>\n      <td>13.51</td>\n      <td>16.756757</td>\n    </tr>\n    <tr>\n      <th>21</th>\n      <td>Wish</td>\n      <td>12.16</td>\n      <td>17.324324</td>\n    </tr>\n    <tr>\n      <th>22</th>\n      <td>Past Lives</td>\n      <td>10.14</td>\n      <td>17.520270</td>\n    </tr>\n    <tr>\n      <th>23</th>\n      <td>Spirited</td>\n      <td>8.78</td>\n      <td>17.797297</td>\n    </tr>\n    <tr>\n      <th>24</th>\n      <td>A Christmas Story</td>\n      <td>8.11</td>\n      <td>17.716216</td>\n    </tr>\n    <tr>\n      <th>25</th>\n      <td>The Holdovers</td>\n      <td>7.43</td>\n      <td>18.155405</td>\n    </tr>\n    <tr>\n      <th>26</th>\n      <td>Barbie</td>\n      <td>6.76</td>\n      <td>18.175676</td>\n    </tr>\n    <tr>\n      <th>27</th>\n      <td>The Shift</td>\n      <td>6.76</td>\n      <td>18.121622</td>\n    </tr>\n    <tr>\n      <th>28</th>\n      <td>Love and Monsters</td>\n      <td>6.08</td>\n      <td>18.054054</td>\n    </tr>\n    <tr>\n      <th>29</th>\n      <td>The Super Mario Bros Movie</td>\n      <td>6.08</td>\n      <td>18.391892</td>\n    </tr>\n    <tr>\n      <th>30</th>\n      <td>Wonka</td>\n      <td>5.41</td>\n      <td>18.472973</td>\n    </tr>\n    <tr>\n      <th>31</th>\n      <td>The Holiday</td>\n      <td>4.05</td>\n      <td>18.885135</td>\n    </tr>\n    <tr>\n      <th>32</th>\n      <td>Lady Ballers</td>\n      <td>3.38</td>\n      <td>18.851351</td>\n    </tr>\n  </tbody>\n</table>\n</div>"
     },
     "execution_count": 9,
     "metadata": {},
     "output_type": "execute_result"
    }
   ],
   "source": [
    "neg"
   ],
   "metadata": {
    "collapsed": false,
    "ExecuteTime": {
     "end_time": "2023-12-24T08:35:17.228124Z",
     "start_time": "2023-12-24T08:35:17.217415Z"
    }
   },
   "id": "3f1c0e545a7e5826"
  },
  {
   "cell_type": "code",
   "execution_count": 14,
   "outputs": [
    {
     "data": {
      "text/plain": "33"
     },
     "execution_count": 14,
     "metadata": {},
     "output_type": "execute_result"
    }
   ],
   "source": [
    "(pos[\"Film\"].values == pos[\"Film\"].values).sum()"
   ],
   "metadata": {
    "collapsed": false,
    "ExecuteTime": {
     "end_time": "2023-12-24T08:36:21.839263Z",
     "start_time": "2023-12-24T08:36:21.834233Z"
    }
   },
   "id": "536ce3cc86c98cb3"
  },
  {
   "cell_type": "code",
   "execution_count": 15,
   "outputs": [],
   "source": [
    "row = pos[pos['Film'] == 'Wonka']"
   ],
   "metadata": {
    "collapsed": false,
    "ExecuteTime": {
     "end_time": "2023-12-24T08:38:18.527548Z",
     "start_time": "2023-12-24T08:38:18.519976Z"
    }
   },
   "id": "48e2fd51cbd9c50c"
  },
  {
   "cell_type": "code",
   "execution_count": 20,
   "outputs": [
    {
     "data": {
      "text/plain": "18.47297297297297"
     },
     "execution_count": 20,
     "metadata": {},
     "output_type": "execute_result"
    }
   ],
   "source": [
    "row[\"pourcentages_positive\"].values[0]"
   ],
   "metadata": {
    "collapsed": false,
    "ExecuteTime": {
     "end_time": "2023-12-24T08:38:58.498074Z",
     "start_time": "2023-12-24T08:38:58.490438Z"
    }
   },
   "id": "32cde6b2aa6a85c0"
  },
  {
   "cell_type": "code",
   "execution_count": 21,
   "outputs": [],
   "source": [
    "import os"
   ],
   "metadata": {
    "collapsed": false,
    "ExecuteTime": {
     "end_time": "2023-12-24T09:00:10.756767Z",
     "start_time": "2023-12-24T09:00:10.751498Z"
    }
   },
   "id": "d7ca94b3b7957248"
  },
  {
   "cell_type": "code",
   "execution_count": 22,
   "outputs": [],
   "source": [
    "images_list = os.listdir(\"../images\")\n",
    "images_list.sort()"
   ],
   "metadata": {
    "collapsed": false,
    "ExecuteTime": {
     "end_time": "2023-12-24T09:00:15.964209Z",
     "start_time": "2023-12-24T09:00:15.953682Z"
    }
   },
   "id": "3b5d29a1e93cfe58"
  },
  {
   "cell_type": "code",
   "execution_count": 54,
   "outputs": [],
   "source": [
    "images_list.sort()"
   ],
   "metadata": {
    "collapsed": false,
    "ExecuteTime": {
     "end_time": "2023-12-24T21:26:38.976940Z",
     "start_time": "2023-12-24T21:26:38.967897Z"
    }
   },
   "id": "3967e58c0fdd775f"
  },
  {
   "cell_type": "code",
   "execution_count": 55,
   "outputs": [],
   "source": [
    "images_list = [film.split(\".jpg\")[0] for film in images_list]"
   ],
   "metadata": {
    "collapsed": false,
    "ExecuteTime": {
     "end_time": "2023-12-24T21:33:26.940924Z",
     "start_time": "2023-12-24T21:33:26.925958Z"
    }
   },
   "id": "4306414f27dde9a1"
  },
  {
   "cell_type": "code",
   "execution_count": 58,
   "outputs": [],
   "source": [
    "images_com = list(pos[\"Film\"].values)"
   ],
   "metadata": {
    "collapsed": false,
    "ExecuteTime": {
     "end_time": "2023-12-24T21:34:18.373156Z",
     "start_time": "2023-12-24T21:34:18.365585Z"
    }
   },
   "id": "ce7e3e593d3d6b6e"
  },
  {
   "cell_type": "code",
   "execution_count": 61,
   "outputs": [],
   "source": [
    "image_remove = [film for film in images_list if film not in images_com]"
   ],
   "metadata": {
    "collapsed": false,
    "ExecuteTime": {
     "end_time": "2023-12-24T21:37:33.254895Z",
     "start_time": "2023-12-24T21:37:33.247791Z"
    }
   },
   "id": "59d56d63294583ec"
  },
  {
   "cell_type": "code",
   "execution_count": 65,
   "outputs": [],
   "source": [
    "image_remove.remove(\".DS_Store\")"
   ],
   "metadata": {
    "collapsed": false,
    "ExecuteTime": {
     "end_time": "2023-12-24T21:38:39.053678Z",
     "start_time": "2023-12-24T21:38:39.044534Z"
    }
   },
   "id": "eaad4331a48184a4"
  },
  {
   "cell_type": "code",
   "execution_count": 66,
   "outputs": [],
   "source": [
    "for film in image_remove:\n",
    "    os.remove(f\"../images/{film+'.jpg'}\")"
   ],
   "metadata": {
    "collapsed": false,
    "ExecuteTime": {
     "end_time": "2023-12-24T21:38:40.084152Z",
     "start_time": "2023-12-24T21:38:40.067780Z"
    }
   },
   "id": "dc0584216fd45b26"
  },
  {
   "cell_type": "code",
   "execution_count": null,
   "outputs": [],
   "source": [],
   "metadata": {
    "collapsed": false
   },
   "id": "be57b6f46930ff00"
  }
 ],
 "metadata": {
  "kernelspec": {
   "display_name": "Python 3",
   "language": "python",
   "name": "python3"
  },
  "language_info": {
   "codemirror_mode": {
    "name": "ipython",
    "version": 2
   },
   "file_extension": ".py",
   "mimetype": "text/x-python",
   "name": "python",
   "nbconvert_exporter": "python",
   "pygments_lexer": "ipython2",
   "version": "2.7.6"
  }
 },
 "nbformat": 4,
 "nbformat_minor": 5
}
