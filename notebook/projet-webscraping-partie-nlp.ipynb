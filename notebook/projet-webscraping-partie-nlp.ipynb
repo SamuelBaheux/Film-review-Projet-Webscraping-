{
 "cells": [
  {
   "cell_type": "code",
   "execution_count": 2,
   "metadata": {
    "execution": {
     "iopub.execute_input": "2023-12-23T22:18:50.278866Z",
     "iopub.status.busy": "2023-12-23T22:18:50.277949Z",
     "iopub.status.idle": "2023-12-23T22:18:50.288812Z",
     "shell.execute_reply": "2023-12-23T22:18:50.287737Z",
     "shell.execute_reply.started": "2023-12-23T22:18:50.278832Z"
    },
    "trusted": true
   },
   "outputs": [
    {
     "name": "stdout",
     "output_type": "stream",
     "text": [
      "[nltk_data] Downloading package punkt to /usr/share/nltk_data...\n",
      "[nltk_data]   Package punkt is already up-to-date!\n",
      "[nltk_data] Downloading package stopwords to /usr/share/nltk_data...\n",
      "[nltk_data]   Package stopwords is already up-to-date!\n",
      "[nltk_data] Downloading package vader_lexicon to\n",
      "[nltk_data]     /usr/share/nltk_data...\n",
      "[nltk_data]   Package vader_lexicon is already up-to-date!\n"
     ]
    },
    {
     "data": {
      "text/plain": [
       "True"
      ]
     },
     "execution_count": 2,
     "metadata": {},
     "output_type": "execute_result"
    }
   ],
   "source": [
    "import pandas as pd\n",
    "\n",
    "from sklearn.feature_extraction.text import TfidfVectorizer\n",
    "\n",
    "import nltk\n",
    "from nltk.stem import PorterStemmer\n",
    "from nltk.corpus import stopwords\n",
    "from nltk.tokenize import word_tokenize\n",
    "from nltk.sentiment import SentimentIntensityAnalyzer\n",
    "\n",
    "from transformers import AutoTokenizer, AutoModelForSequenceClassification, pipeline\n",
    "\n",
    "nltk.download(\"punkt\")\n",
    "nltk.download(\"stopwords\")\n",
    "nltk.download('vader_lexicon')"
   ]
  },
  {
   "cell_type": "markdown",
   "source": [
    "# Analyse de sentiments"
   ],
   "metadata": {
    "collapsed": false
   }
  },
  {
   "cell_type": "code",
   "execution_count": 3,
   "metadata": {
    "execution": {
     "iopub.execute_input": "2023-12-23T22:18:50.291308Z",
     "iopub.status.busy": "2023-12-23T22:18:50.290992Z",
     "iopub.status.idle": "2023-12-23T22:18:50.589205Z",
     "shell.execute_reply": "2023-12-23T22:18:50.588378Z",
     "shell.execute_reply.started": "2023-12-23T22:18:50.291285Z"
    },
    "trusted": true
   },
   "outputs": [],
   "source": [
    "df = pd.read_parquet(\"../data/part-00000-f8a4960b-1ec0-462e-8964-6eba169347e8-c000.snappy.parquet\")\n",
    "df = pd.melt(df, value_vars=df.columns, var_name='titre', value_name='avis')"
   ]
  },
  {
   "cell_type": "code",
   "execution_count": 4,
   "metadata": {
    "execution": {
     "iopub.execute_input": "2023-12-23T22:18:50.590784Z",
     "iopub.status.busy": "2023-12-23T22:18:50.590371Z",
     "iopub.status.idle": "2023-12-23T22:18:50.596751Z",
     "shell.execute_reply": "2023-12-23T22:18:50.595496Z",
     "shell.execute_reply.started": "2023-12-23T22:18:50.590756Z"
    },
    "trusted": true
   },
   "outputs": [],
   "source": [
    "ps = PorterStemmer()\n",
    "\n",
    "def stem_word(word):\n",
    "    return ps.stem(word)\n",
    "\n",
    "def stem_column(column):\n",
    "    return column.apply(lambda x: ' '.join([stem_word(word) for word in nltk.word_tokenize(x)]))\n",
    "\n",
    "def remove_stop_words(text):\n",
    "    tokens = word_tokenize(text)\n",
    "    stop_words = set(stopwords.words(\"english\"))  \n",
    "    filtered_tokens = [word for word in tokens if word.lower() not in stop_words]\n",
    "    filtered_text = ' '.join(filtered_tokens)\n",
    "    return filtered_text"
   ]
  },
  {
   "cell_type": "code",
   "execution_count": 5,
   "metadata": {
    "execution": {
     "iopub.execute_input": "2023-12-23T22:18:50.601113Z",
     "iopub.status.busy": "2023-12-23T22:18:50.600173Z",
     "iopub.status.idle": "2023-12-23T22:19:20.670061Z",
     "shell.execute_reply": "2023-12-23T22:19:20.668650Z",
     "shell.execute_reply.started": "2023-12-23T22:18:50.601072Z"
    },
    "trusted": true
   },
   "outputs": [],
   "source": [
    "df[\"avis_stopwords\"] = df[\"avis\"].apply(remove_stop_words)\n",
    "df[\"avis_preprocess\"] = stem_column(df[\"avis_stopwords\"])"
   ]
  },
  {
   "cell_type": "code",
   "execution_count": 6,
   "metadata": {
    "execution": {
     "iopub.execute_input": "2023-12-23T22:19:20.671696Z",
     "iopub.status.busy": "2023-12-23T22:19:20.671349Z",
     "iopub.status.idle": "2023-12-23T22:19:26.037286Z",
     "shell.execute_reply": "2023-12-23T22:19:26.036211Z",
     "shell.execute_reply.started": "2023-12-23T22:19:20.671666Z"
    },
    "trusted": true
   },
   "outputs": [
    {
     "data": {
      "application/vnd.jupyter.widget-view+json": {
       "model_id": "5297d02ec06543c2a0902f96a06512b7",
       "version_major": 2,
       "version_minor": 0
      },
      "text/plain": [
       "tokenizer_config.json:   0%|          | 0.00/1.20k [00:00<?, ?B/s]"
      ]
     },
     "metadata": {},
     "output_type": "display_data"
    },
    {
     "data": {
      "application/vnd.jupyter.widget-view+json": {
       "model_id": "c135d72f8d974981b017caac45a2d8c3",
       "version_major": 2,
       "version_minor": 0
      },
      "text/plain": [
       "vocab.txt:   0%|          | 0.00/232k [00:00<?, ?B/s]"
      ]
     },
     "metadata": {},
     "output_type": "display_data"
    },
    {
     "data": {
      "application/vnd.jupyter.widget-view+json": {
       "model_id": "ccb1a6609a7b456ca38e28e37da39203",
       "version_major": 2,
       "version_minor": 0
      },
      "text/plain": [
       "tokenizer.json:   0%|          | 0.00/711k [00:00<?, ?B/s]"
      ]
     },
     "metadata": {},
     "output_type": "display_data"
    },
    {
     "data": {
      "application/vnd.jupyter.widget-view+json": {
       "model_id": "b084181e016c4758a2905a9acf37957f",
       "version_major": 2,
       "version_minor": 0
      },
      "text/plain": [
       "special_tokens_map.json:   0%|          | 0.00/125 [00:00<?, ?B/s]"
      ]
     },
     "metadata": {},
     "output_type": "display_data"
    },
    {
     "data": {
      "application/vnd.jupyter.widget-view+json": {
       "model_id": "45efeb7a44e642a894c839a9de42b860",
       "version_major": 2,
       "version_minor": 0
      },
      "text/plain": [
       "config.json:   0%|          | 0.00/640 [00:00<?, ?B/s]"
      ]
     },
     "metadata": {},
     "output_type": "display_data"
    },
    {
     "data": {
      "application/vnd.jupyter.widget-view+json": {
       "model_id": "801e3e0a9f8d49f9a5d6fdb1a68f903a",
       "version_major": 2,
       "version_minor": 0
      },
      "text/plain": [
       "tf_model.h5:   0%|          | 0.00/268M [00:00<?, ?B/s]"
      ]
     },
     "metadata": {},
     "output_type": "display_data"
    },
    {
     "name": "stderr",
     "output_type": "stream",
     "text": [
      "All TF 2.0 model weights were used when initializing DistilBertForSequenceClassification.\n",
      "\n",
      "All the weights of DistilBertForSequenceClassification were initialized from the TF 2.0 model.\n",
      "If your task is similar to the task the model of the checkpoint was trained on, you can already use DistilBertForSequenceClassification for predictions without further training.\n"
     ]
    }
   ],
   "source": [
    "MODEL_NAME = \"wang3820/movies\"\n",
    "TOKENIZER = AutoTokenizer.from_pretrained(MODEL_NAME)\n",
    "MODEL = AutoModelForSequenceClassification.from_pretrained(MODEL_NAME, from_tf = True)\n",
    "\n",
    "sentiment_task = pipeline(\"sentiment-analysis\", model=MODEL, tokenizer=TOKENIZER)"
   ]
  },
  {
   "cell_type": "code",
   "execution_count": 7,
   "metadata": {
    "execution": {
     "iopub.execute_input": "2023-12-23T22:19:26.039667Z",
     "iopub.status.busy": "2023-12-23T22:19:26.039090Z",
     "iopub.status.idle": "2023-12-23T22:27:30.529376Z",
     "shell.execute_reply": "2023-12-23T22:27:30.528310Z",
     "shell.execute_reply.started": "2023-12-23T22:19:26.039625Z"
    },
    "trusted": true
   },
   "outputs": [],
   "source": [
    "def get_sentiment(text):\n",
    "    \n",
    "    max_length = 512\n",
    "    text = text[:max_length]\n",
    "    result = sentiment_task(text)[0]\n",
    "    \n",
    "    return result[\"label\"]\n",
    "\n",
    "df['sentiment_HF'] =df['avis'].apply(get_sentiment)"
   ]
  },
  {
   "cell_type": "code",
   "execution_count": 8,
   "metadata": {
    "execution": {
     "iopub.execute_input": "2023-12-23T22:27:30.531823Z",
     "iopub.status.busy": "2023-12-23T22:27:30.530880Z",
     "iopub.status.idle": "2023-12-23T22:27:57.545402Z",
     "shell.execute_reply": "2023-12-23T22:27:57.543850Z",
     "shell.execute_reply.started": "2023-12-23T22:27:30.531786Z"
    },
    "trusted": true
   },
   "outputs": [],
   "source": [
    "vader = SentimentIntensityAnalyzer()\n",
    "\n",
    "def get_sentiment(text):\n",
    "\n",
    "    sentiment_score = vader.polarity_scores(text)['compound']\n",
    "    \n",
    "    if sentiment_score >= 0.05:\n",
    "        return 'positive'\n",
    "    elif sentiment_score <= -0.05:\n",
    "        return 'negative'\n",
    "    else:\n",
    "        return 'neutral'\n",
    "    \n",
    "def get_sentiment_score(text):\n",
    "    return vader.polarity_scores(text)['compound']\n",
    "\n",
    "df['sentiment_VADER'] = df['avis_preprocess'].apply(get_sentiment)\n",
    "df['sentiment_score_VADER'] = df['avis_preprocess'].apply(get_sentiment_score)"
   ]
  },
  {
   "cell_type": "code",
   "execution_count": 9,
   "metadata": {
    "execution": {
     "iopub.execute_input": "2023-12-23T22:27:57.547418Z",
     "iopub.status.busy": "2023-12-23T22:27:57.547014Z",
     "iopub.status.idle": "2023-12-23T22:27:58.324818Z",
     "shell.execute_reply": "2023-12-23T22:27:58.323449Z",
     "shell.execute_reply.started": "2023-12-23T22:27:57.547375Z"
    },
    "trusted": true
   },
   "outputs": [],
   "source": [
    "tfidf_positive = TfidfVectorizer(stop_words=stopwords.words(\"english\"))\n",
    "tfidf_negative = TfidfVectorizer(stop_words=stopwords.words(\"english\"))\n",
    "tfidf_neutral = TfidfVectorizer(stop_words=stopwords.words(\"english\"))\n",
    "\n",
    "positive_reviews = df[df['sentiment_VADER'] == 'positive']\n",
    "negative_reviews = df[df['sentiment_VADER'] == 'negative']\n",
    "\n",
    "tfidf_positive_matrix = tfidf_positive.fit_transform(positive_reviews['avis'])\n",
    "tfidf_negative_matrix = tfidf_negative.fit_transform(negative_reviews['avis'])\n",
    "\n",
    "positive_feature_names = tfidf_positive.get_feature_names_out()\n",
    "positive_weights = tfidf_positive.idf_\n",
    "\n",
    "negative_feature_names = tfidf_negative.get_feature_names_out()\n",
    "negative_weights = tfidf_negative.idf_"
   ]
  },
  {
   "cell_type": "code",
   "execution_count": 10,
   "metadata": {
    "execution": {
     "iopub.execute_input": "2023-12-23T22:27:58.327195Z",
     "iopub.status.busy": "2023-12-23T22:27:58.326826Z",
     "iopub.status.idle": "2023-12-23T22:27:58.349637Z",
     "shell.execute_reply": "2023-12-23T22:27:58.348497Z",
     "shell.execute_reply.started": "2023-12-23T22:27:58.327164Z"
    },
    "trusted": true
   },
   "outputs": [],
   "source": [
    "positive_reviews.to_csv(\"../data/psitive_reviews.csv\")\n",
    "negative_reviews.to_csv(\"../data/negative_reviews.csv\")"
   ]
  },
  {
   "cell_type": "code",
   "execution_count": 11,
   "metadata": {
    "execution": {
     "iopub.execute_input": "2023-12-23T22:27:58.353668Z",
     "iopub.status.busy": "2023-12-23T22:27:58.352878Z",
     "iopub.status.idle": "2023-12-23T22:27:58.360977Z",
     "shell.execute_reply": "2023-12-23T22:27:58.360111Z",
     "shell.execute_reply.started": "2023-12-23T22:27:58.353634Z"
    },
    "trusted": true
   },
   "outputs": [],
   "source": [
    "def percentage_sentiment_by_film(df, sentiment_model, titre, sentiment):\n",
    "\n",
    "    positive_sentiments_by_movie = df[df[sentiment_model] == sentiment].groupby(titre).size()\n",
    "    total_reviews_by_movie = df.groupby(titre).size()\n",
    "    percentage_positive_sentiments_by_movie = round((positive_sentiments_by_movie / total_reviews_by_movie) * 100, 2)\n",
    "    df['note'] = round((df[\"sentiment_score_VADER\"] + 1) * 10)\n",
    "\n",
    "    percentage_df = pd.DataFrame({\n",
    "        'Film': percentage_positive_sentiments_by_movie.index,\n",
    "        f'pourcentages_{sentiment}': percentage_positive_sentiments_by_movie.values,\n",
    "        f'notes': df.groupby(titre)['note'].mean().values\n",
    "    })\n",
    "    return percentage_df"
   ]
  },
  {
   "cell_type": "code",
   "execution_count": 12,
   "metadata": {
    "execution": {
     "iopub.execute_input": "2023-12-23T22:27:58.363283Z",
     "iopub.status.busy": "2023-12-23T22:27:58.362722Z",
     "iopub.status.idle": "2023-12-23T22:27:58.393736Z",
     "shell.execute_reply": "2023-12-23T22:27:58.392113Z",
     "shell.execute_reply.started": "2023-12-23T22:27:58.363246Z"
    },
    "trusted": true
   },
   "outputs": [],
   "source": [
    "positive = percentage_sentiment_by_film(df, 'sentiment_VADER', 'titre', \"positive\")\n",
    "\n",
    "positive.sort_values(by = 'pourcentages_positive', ascending = False, inplace=True)"
   ]
  },
  {
   "cell_type": "code",
   "execution_count": 13,
   "metadata": {
    "execution": {
     "iopub.execute_input": "2023-12-23T22:27:58.395546Z",
     "iopub.status.busy": "2023-12-23T22:27:58.395235Z",
     "iopub.status.idle": "2023-12-23T22:27:58.401078Z",
     "shell.execute_reply": "2023-12-23T22:27:58.399557Z",
     "shell.execute_reply.started": "2023-12-23T22:27:58.395520Z"
    },
    "trusted": true
   },
   "outputs": [],
   "source": [
    "positive.reset_index(drop=True, inplace=True)"
   ]
  },
  {
   "cell_type": "code",
   "execution_count": 14,
   "metadata": {
    "execution": {
     "iopub.execute_input": "2023-12-23T22:27:58.402912Z",
     "iopub.status.busy": "2023-12-23T22:27:58.402576Z",
     "iopub.status.idle": "2023-12-23T22:27:58.416278Z",
     "shell.execute_reply": "2023-12-23T22:27:58.414784Z",
     "shell.execute_reply.started": "2023-12-23T22:27:58.402884Z"
    },
    "trusted": true
   },
   "outputs": [],
   "source": [
    "positive.to_csv(\"../data/notes_percentage_positive.csv\", index=False)"
   ]
  }
 ],
 "metadata": {
  "kaggle": {
   "accelerator": "none",
   "dataSources": [
    {
     "datasetId": 4213707,
     "sourceId": 7269016,
     "sourceType": "datasetVersion"
    }
   ],
   "dockerImageVersionId": 30626,
   "isGpuEnabled": false,
   "isInternetEnabled": true,
   "language": "python",
   "sourceType": "notebook"
  },
  "kernelspec": {
   "display_name": "Python 3",
   "language": "python",
   "name": "python3"
  },
  "language_info": {
   "codemirror_mode": {
    "name": "ipython",
    "version": 3
   },
   "file_extension": ".py",
   "mimetype": "text/x-python",
   "name": "python",
   "nbconvert_exporter": "python",
   "pygments_lexer": "ipython3",
   "version": "3.10.12"
  }
 },
 "nbformat": 4,
 "nbformat_minor": 4
}
